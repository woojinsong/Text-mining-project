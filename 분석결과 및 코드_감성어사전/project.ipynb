{
 "cells": [
  {
   "cell_type": "code",
   "execution_count": 94,
   "metadata": {},
   "outputs": [],
   "source": [
    "import pandas as pd\n",
    "df1=pd.read_csv('donganew.csv')\n",
    "df2=pd.read_csv('hankyoreh.csv')\n",
    "df3=pd.read_csv('joins.csv')\n",
    "df4=pd.read_csv('josun.csv')\n",
    "df5=pd.read_csv('mt_data.csv')\n",
    "df6=pd.read_csv('pressian.csv')\n",
    "df7=pd.read_csv('seoul_data.csv')\n",
    "df8=pd.read_csv('trendnews.csv')"
   ]
  },
  {
   "cell_type": "code",
   "execution_count": 95,
   "metadata": {},
   "outputs": [],
   "source": [
    "aaa=df1['제목'].str.contains('박영선',na=False)\n",
    "title=df1[aaa]\n",
    "aa=title[\"본문\"].str.contains('박영선',na=False)\n",
    "aa\n",
    "donga_park=title[aa]\n",
    "donga_park.to_csv(\"박영선_donga.csv\",encoding='utf-8-sig')"
   ]
  },
  {
   "cell_type": "code",
   "execution_count": 96,
   "metadata": {},
   "outputs": [],
   "source": [
    "aaa=df2['title'].str.contains('박영선',na=False)\n",
    "title=df2[aaa]\n",
    "aa=title['content'].str.contains('박영선',na=False)\n",
    "aa\n",
    "han_park=title[aa]\n",
    "han_park\n",
    "han_park.to_csv(\"박영선_han.csv\",encoding='utf-8-sig')"
   ]
  },
  {
   "cell_type": "code",
   "execution_count": 97,
   "metadata": {},
   "outputs": [],
   "source": [
    "aaa=df3['title'].str.contains('박영선',na=False)\n",
    "title=df3[aaa]\n",
    "aa=title[\"content\"].str.contains('박영선',na=False)\n",
    "aa\n",
    "joins_park=title[aa]\n",
    "joins_park\n",
    "joins_park.to_csv(\"박영선_joins.csv\",encoding='utf-8-sig')"
   ]
  },
  {
   "cell_type": "code",
   "execution_count": 98,
   "metadata": {},
   "outputs": [],
   "source": [
    "aaa=df4['title'].str.contains('박영선',na=False)\n",
    "title=df4[aaa]\n",
    "aa=title[\"content\"].str.contains('박영선',na=False)\n",
    "aa\n",
    "josun_park=title[aa]\n",
    "josun_park\n",
    "josun_park.to_csv(\"박영선_josun.csv\",encoding='utf-8-sig')"
   ]
  },
  {
   "cell_type": "code",
   "execution_count": 99,
   "metadata": {},
   "outputs": [],
   "source": [
    "aaa=df5['제목'].str.contains('박영선',na=False)\n",
    "title=df5[aaa]\n",
    "aa=title[\"본문\"].str.contains('박영선',na=False)\n",
    "aa\n",
    "mt_park=title[aa]\n",
    "mt_park\n",
    "mt_park.to_csv(\"박영선_mt.csv\",encoding='utf-8-sig')"
   ]
  },
  {
   "cell_type": "code",
   "execution_count": 100,
   "metadata": {},
   "outputs": [],
   "source": [
    "aaa=df6['title'].str.contains('박영선',na=False)\n",
    "title=df6[aaa]\n",
    "aa=title['content'].str.contains('박영선',na=False)\n",
    "aa\n",
    "pressian_park=title[aa]\n",
    "pressian_park\n",
    "pressian_park.to_csv(\"박영선_pressian.csv\",encoding='utf-8-sig')"
   ]
  },
  {
   "cell_type": "code",
   "execution_count": 101,
   "metadata": {},
   "outputs": [],
   "source": [
    "aaa=df7['제목'].str.contains('박영선',na=False)\n",
    "title=df7[aaa]\n",
    "aa=title[\"본문\"].str.contains('박영선',na=False)\n",
    "aa\n",
    "seoul_park=title[aa]\n",
    "seoul_park\n",
    "seoul_park.to_csv(\"박영선_seoul.csv\",encoding='utf-8-sig')"
   ]
  },
  {
   "cell_type": "code",
   "execution_count": 102,
   "metadata": {},
   "outputs": [],
   "source": [
    "aaa=df8['제목'].str.contains('박영선',na=False)\n",
    "title=df8[aaa]\n",
    "aa=title[\"본문\"].str.contains('박영선',na=False)\n",
    "aa\n",
    "trendnews=title[aa]\n",
    "trendnews\n",
    "trendnews.to_csv(\"박영선_trendnews.csv\",encoding='utf-8-sig')"
   ]
  },
  {
   "cell_type": "code",
   "execution_count": 103,
   "metadata": {},
   "outputs": [],
   "source": [
    "aaa=df1['제목'].str.contains('이재명',na=False)\n",
    "title=df1[aaa]\n",
    "aa=title[\"본문\"].str.contains('이재명',na=False)\n",
    "aa\n",
    "donga_park=title[aa]\n",
    "donga_park.to_csv(\"이재명_donga.csv\",encoding='utf-8-sig')"
   ]
  },
  {
   "cell_type": "code",
   "execution_count": 104,
   "metadata": {},
   "outputs": [],
   "source": [
    "aaa=df2['title'].str.contains('이재명',na=False)\n",
    "title=df2[aaa]\n",
    "aa=title['content'].str.contains('이재명',na=False)\n",
    "aa\n",
    "han_park=title[aa]\n",
    "han_park\n",
    "han_park.to_csv(\"이재명_han.csv\",encoding='utf-8-sig')"
   ]
  },
  {
   "cell_type": "code",
   "execution_count": 105,
   "metadata": {},
   "outputs": [],
   "source": [
    "aaa=df3['title'].str.contains('이재명',na=False)\n",
    "title=df3[aaa]\n",
    "aa=title[\"content\"].str.contains('이재명',na=False)\n",
    "aa\n",
    "joins_park=title[aa]\n",
    "joins_park\n",
    "joins_park.to_csv(\"이재명_joins.csv\",encoding='utf-8-sig')"
   ]
  },
  {
   "cell_type": "code",
   "execution_count": 106,
   "metadata": {},
   "outputs": [],
   "source": [
    "aaa=df4['title'].str.contains('이재명',na=False)\n",
    "title=df4[aaa]\n",
    "aa=title[\"content\"].str.contains('이재명',na=False)\n",
    "aa\n",
    "josun_park=title[aa]\n",
    "josun_park\n",
    "josun_park.to_csv(\"이재명_josun.csv\",encoding='utf-8-sig')"
   ]
  },
  {
   "cell_type": "code",
   "execution_count": 107,
   "metadata": {},
   "outputs": [],
   "source": [
    "aaa=df5['제목'].str.contains('이재명',na=False)\n",
    "title=df5[aaa]\n",
    "aa=title[\"본문\"].str.contains('이재명',na=False)\n",
    "aa\n",
    "mt_park=title[aa]\n",
    "mt_park\n",
    "mt_park.to_csv(\"이재명_mt.csv\",encoding='utf-8-sig')"
   ]
  },
  {
   "cell_type": "code",
   "execution_count": 108,
   "metadata": {},
   "outputs": [],
   "source": [
    "aaa=df6['title'].str.contains('이재명',na=False)\n",
    "title=df6[aaa]\n",
    "aa=title['content'].str.contains('이재명',na=False)\n",
    "aa\n",
    "pressian_park=title[aa]\n",
    "pressian_park\n",
    "pressian_park.to_csv(\"이재명_pressian.csv\",encoding='utf-8-sig')"
   ]
  },
  {
   "cell_type": "code",
   "execution_count": 109,
   "metadata": {},
   "outputs": [],
   "source": [
    "aaa=df7['제목'].str.contains('이재명',na=False)\n",
    "title=df7[aaa]\n",
    "aa=title[\"본문\"].str.contains('이재명',na=False)\n",
    "aa\n",
    "seoul_park=title[aa]\n",
    "seoul_park\n",
    "seoul_park.to_csv(\"이재명_seoul.csv\",encoding='utf-8-sig')"
   ]
  },
  {
   "cell_type": "code",
   "execution_count": 110,
   "metadata": {},
   "outputs": [],
   "source": [
    "aaa=df8['제목'].str.contains('이재명',na=False)\n",
    "title=df8[aaa]\n",
    "aa=title[\"본문\"].str.contains('이재명',na=False)\n",
    "aa\n",
    "trendnews=title[aa]\n",
    "trendnews\n",
    "trendnews.to_csv(\"이재명_trendnews.csv\",encoding='utf-8-sig')"
   ]
  },
  {
   "cell_type": "code",
   "execution_count": null,
   "metadata": {},
   "outputs": [],
   "source": []
  }
 ],
 "metadata": {
  "kernelspec": {
   "display_name": "Python 3",
   "language": "python",
   "name": "python3"
  },
  "language_info": {
   "codemirror_mode": {
    "name": "ipython",
    "version": 3
   },
   "file_extension": ".py",
   "mimetype": "text/x-python",
   "name": "python",
   "nbconvert_exporter": "python",
   "pygments_lexer": "ipython3",
   "version": "3.9.5"
  }
 },
 "nbformat": 4,
 "nbformat_minor": 4
}
