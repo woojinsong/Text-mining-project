{
 "cells": [
  {
   "cell_type": "code",
   "execution_count": 1,
   "id": "69d3075e",
   "metadata": {},
   "outputs": [],
   "source": [
    "import pandas as pd\n",
    "import numpy as np\n"
   ]
  },
  {
   "cell_type": "code",
   "execution_count": 2,
   "id": "2c1a7f02",
   "metadata": {},
   "outputs": [],
   "source": [
    "data1=pd.DataFrame(data=[\"한겨레\",\"경향신문\",\"동아일보\",\"머니투데이\",\"서울경제\",\"조선일보\",\"중앙일보\",\"프레시안\"],columns=[\"언론사\"])"
   ]
  },
  {
   "cell_type": "code",
   "execution_count": 13,
   "id": "942b8946",
   "metadata": {},
   "outputs": [],
   "source": [
    "title=[\"hankyoreh\",\"경향신문\",\"동아일보\",\"머니투데이\",\"서울경제\",\"조선일보\",\"중앙일보\",\"프레시안\"]\n",
    "subject=[\"박영선\",\"오세훈\",\"대통령\",\"백신\",\"이낙연\",\"이재명\"]\n",
    "result=[]\n",
    "for j in range(0,6):\n",
    "    for i in range(0,8):\n",
    "        data = pd.read_csv(subject[j]+\"_\"+title[i]+\"_result.csv\")\n",
    "        result.append(np.mean(data[\"점수\"]))\n",
    "    data1[subject[j]]=result\n",
    "    result=[]"
   ]
  },
  {
   "cell_type": "code",
   "execution_count": 24,
   "id": "fe728e2a",
   "metadata": {},
   "outputs": [
    {
     "data": {
      "text/plain": [
       "[0.5127218227360248,\n",
       " 0.5178923256260219,\n",
       " 0.5185978218832501,\n",
       " 0.46307169597820824,\n",
       " 0.4927971251668488,\n",
       " 0.510139460182569,\n",
       " 0.5077630470688995,\n",
       " 0.5138107378139689]"
      ]
     },
     "execution_count": 24,
     "metadata": {},
     "output_type": "execute_result"
    }
   ],
   "source": [
    "result"
   ]
  },
  {
   "cell_type": "code",
   "execution_count": 27,
   "id": "8ac6d4e1",
   "metadata": {},
   "outputs": [],
   "source": [
    "data[subject[0]]=1"
   ]
  },
  {
   "cell_type": "code",
   "execution_count": 4,
   "id": "f7ee9674",
   "metadata": {},
   "outputs": [
    {
     "data": {
      "text/html": [
       "<div>\n",
       "<style scoped>\n",
       "    .dataframe tbody tr th:only-of-type {\n",
       "        vertical-align: middle;\n",
       "    }\n",
       "\n",
       "    .dataframe tbody tr th {\n",
       "        vertical-align: top;\n",
       "    }\n",
       "\n",
       "    .dataframe thead th {\n",
       "        text-align: right;\n",
       "    }\n",
       "</style>\n",
       "<table border=\"1\" class=\"dataframe\">\n",
       "  <thead>\n",
       "    <tr style=\"text-align: right;\">\n",
       "      <th></th>\n",
       "      <th>언론사</th>\n",
       "      <th>박영선</th>\n",
       "      <th>오세훈</th>\n",
       "      <th>대통령</th>\n",
       "      <th>백신</th>\n",
       "      <th>이낙연</th>\n",
       "      <th>이재명</th>\n",
       "    </tr>\n",
       "  </thead>\n",
       "  <tbody>\n",
       "    <tr>\n",
       "      <th>0</th>\n",
       "      <td>한겨레</td>\n",
       "      <td>0.512722</td>\n",
       "      <td>0.525596</td>\n",
       "      <td>0.516601</td>\n",
       "      <td>0.525995</td>\n",
       "      <td>0.545977</td>\n",
       "      <td>0.530950</td>\n",
       "    </tr>\n",
       "    <tr>\n",
       "      <th>1</th>\n",
       "      <td>경향신문</td>\n",
       "      <td>0.517892</td>\n",
       "      <td>0.520884</td>\n",
       "      <td>0.525319</td>\n",
       "      <td>0.532269</td>\n",
       "      <td>0.513419</td>\n",
       "      <td>0.527575</td>\n",
       "    </tr>\n",
       "    <tr>\n",
       "      <th>2</th>\n",
       "      <td>동아일보</td>\n",
       "      <td>0.518598</td>\n",
       "      <td>0.533253</td>\n",
       "      <td>0.518735</td>\n",
       "      <td>0.529647</td>\n",
       "      <td>0.528588</td>\n",
       "      <td>0.527196</td>\n",
       "    </tr>\n",
       "    <tr>\n",
       "      <th>3</th>\n",
       "      <td>머니투데이</td>\n",
       "      <td>0.463072</td>\n",
       "      <td>0.507850</td>\n",
       "      <td>0.493943</td>\n",
       "      <td>0.526171</td>\n",
       "      <td>0.489102</td>\n",
       "      <td>0.509694</td>\n",
       "    </tr>\n",
       "    <tr>\n",
       "      <th>4</th>\n",
       "      <td>서울경제</td>\n",
       "      <td>0.492797</td>\n",
       "      <td>0.498522</td>\n",
       "      <td>0.490484</td>\n",
       "      <td>0.521368</td>\n",
       "      <td>0.480791</td>\n",
       "      <td>0.508945</td>\n",
       "    </tr>\n",
       "    <tr>\n",
       "      <th>5</th>\n",
       "      <td>조선일보</td>\n",
       "      <td>0.510139</td>\n",
       "      <td>0.537537</td>\n",
       "      <td>0.518958</td>\n",
       "      <td>0.530806</td>\n",
       "      <td>0.522045</td>\n",
       "      <td>0.513040</td>\n",
       "    </tr>\n",
       "    <tr>\n",
       "      <th>6</th>\n",
       "      <td>중앙일보</td>\n",
       "      <td>0.507763</td>\n",
       "      <td>0.526437</td>\n",
       "      <td>0.511306</td>\n",
       "      <td>0.525891</td>\n",
       "      <td>0.506851</td>\n",
       "      <td>0.513856</td>\n",
       "    </tr>\n",
       "    <tr>\n",
       "      <th>7</th>\n",
       "      <td>프레시안</td>\n",
       "      <td>0.513811</td>\n",
       "      <td>0.520884</td>\n",
       "      <td>0.525319</td>\n",
       "      <td>0.532269</td>\n",
       "      <td>0.513419</td>\n",
       "      <td>0.510784</td>\n",
       "    </tr>\n",
       "  </tbody>\n",
       "</table>\n",
       "</div>"
      ],
      "text/plain": [
       "     언론사       박영선       오세훈       대통령        백신       이낙연       이재명\n",
       "0    한겨레  0.512722  0.525596  0.516601  0.525995  0.545977  0.530950\n",
       "1   경향신문  0.517892  0.520884  0.525319  0.532269  0.513419  0.527575\n",
       "2   동아일보  0.518598  0.533253  0.518735  0.529647  0.528588  0.527196\n",
       "3  머니투데이  0.463072  0.507850  0.493943  0.526171  0.489102  0.509694\n",
       "4   서울경제  0.492797  0.498522  0.490484  0.521368  0.480791  0.508945\n",
       "5   조선일보  0.510139  0.537537  0.518958  0.530806  0.522045  0.513040\n",
       "6   중앙일보  0.507763  0.526437  0.511306  0.525891  0.506851  0.513856\n",
       "7   프레시안  0.513811  0.520884  0.525319  0.532269  0.513419  0.510784"
      ]
     },
     "execution_count": 4,
     "metadata": {},
     "output_type": "execute_result"
    }
   ],
   "source": [
    "data1"
   ]
  },
  {
   "cell_type": "code",
   "execution_count": 14,
   "id": "831e1d87",
   "metadata": {},
   "outputs": [],
   "source": [
    "data1.to_csv(\"감성어평균결과.csv\",encoding=\"cp949\")"
   ]
  },
  {
   "cell_type": "code",
   "execution_count": 3,
   "id": "312f2d58",
   "metadata": {},
   "outputs": [],
   "source": [
    "title=[\"han\",\"경향신문\",\"donga\",\"mt\",\"서울경제\",\"josun\",\"joins\",\"pressian\"]\n",
    "subject=[\"박영선\",\"오세훈\",\"대통령\",\"백신\",\"이낙연\",\"이재명\"]"
   ]
  },
  {
   "cell_type": "code",
   "execution_count": 11,
   "id": "94944e93",
   "metadata": {},
   "outputs": [],
   "source": [
    "result=[]\n",
    "for j in range(0,6):\n",
    "    for i in range(0,8):\n",
    "        data = pd.read_csv(subject[j]+\"_\"+title[i]+\"_result.csv\")\n",
    "        dd=data[\"점수\"]\n",
    "        for k in dd:\n",
    "            if(k>0.53):\n",
    "                result.append(\"긍정\")\n",
    "            elif(0.53>=k>=0.47):\n",
    "                result.append(\"중립\")\n",
    "            elif(0.47>k):\n",
    "                result.append(\"부정\")\n",
    "        \n",
    "        data[\"태깅결과\"]=result\n",
    "        data.to_csv(subject[j]+\"_\"+title[i]+\"_result_태깅.csv\",encoding=\"utf-8-sig\")\n",
    "        result=[]"
   ]
  },
  {
   "cell_type": "code",
   "execution_count": 5,
   "id": "6dde2e10",
   "metadata": {},
   "outputs": [],
   "source": [
    "data = pd.read_csv(subject[0]+\"_\"+title[0]+\"_result.csv\")"
   ]
  },
  {
   "cell_type": "code",
   "execution_count": 12,
   "id": "8c9a038e",
   "metadata": {},
   "outputs": [
    {
     "data": {
      "text/plain": [
       "0     0.532267\n",
       "1     0.537783\n",
       "2     0.493406\n",
       "3     0.529312\n",
       "4     0.471456\n",
       "        ...   \n",
       "69    0.544296\n",
       "70    0.499195\n",
       "71    0.498841\n",
       "72    0.523149\n",
       "73    0.476889\n",
       "Name: 점수, Length: 74, dtype: float64"
      ]
     },
     "execution_count": 12,
     "metadata": {},
     "output_type": "execute_result"
    }
   ],
   "source": [
    "data[\"점수\"]"
   ]
  },
  {
   "cell_type": "code",
   "execution_count": 14,
   "id": "a7da05e7",
   "metadata": {},
   "outputs": [
    {
     "name": "stdout",
     "output_type": "stream",
     "text": [
      "0.5322666285459118\n",
      "0.5377834564733645\n",
      "0.4934062524587661\n",
      "0.5293117379299667\n",
      "0.4714562344602319\n",
      "0.5342805745500171\n",
      "0.4958128502370761\n",
      "0.5698588554683934\n",
      "0.4934148558309215\n",
      "0.5098749807021794\n",
      "0.4901375453211146\n",
      "0.5093907317460579\n",
      "0.5192904143990511\n",
      "0.5475736029986388\n",
      "0.4989966451180717\n",
      "0.5357294015524895\n",
      "0.5213326139574558\n",
      "0.4408635838115961\n",
      "0.5093908480787616\n",
      "0.5089427626203622\n",
      "0.5174247134191802\n",
      "0.5382378542032588\n",
      "0.5090105176865141\n",
      "0.479562948286954\n",
      "0.5084264588595772\n",
      "0.5266350364312031\n",
      "0.5163277788773861\n",
      "0.5512274849699308\n",
      "0.6067507587016239\n",
      "0.5256706858929593\n",
      "0.5075425083106433\n",
      "0.5278146991566323\n",
      "0.5257749248098572\n",
      "0.5669343336897503\n",
      "0.5209684652292944\n",
      "0.4813171486932907\n",
      "0.554247789380095\n",
      "0.4854316963463198\n",
      "0.5506756230144586\n",
      "0.5129440303593521\n",
      "0.4723202168434725\n",
      "0.519233179878105\n",
      "0.499733375029087\n",
      "0.47908897989036\n",
      "0.5428229686544382\n",
      "0.4375262412422562\n",
      "0.5500963072267061\n",
      "0.5046607562172194\n",
      "0.4595911452135975\n",
      "0.4916608114976187\n",
      "0.4954156053888645\n",
      "0.495173672332897\n",
      "0.5160203846305452\n",
      "0.5329734916219289\n",
      "0.5129750045753613\n",
      "0.5038299258139918\n",
      "0.497762743321799\n",
      "0.4930703548757544\n",
      "0.4991050848884637\n",
      "0.4911439998795867\n",
      "0.4597963329230891\n",
      "0.544763756121032\n",
      "0.5015304663812161\n",
      "0.5497673024625307\n",
      "0.4974391856303992\n",
      "0.5101020168496873\n",
      "0.531428702251321\n",
      "0.5251744298923006\n",
      "0.5227977857467092\n",
      "0.5442963154405354\n",
      "0.4991949466801739\n",
      "0.4988409953664666\n",
      "0.5231493285182806\n",
      "0.4768890366013458\n"
     ]
    }
   ],
   "source": [
    "d=data[\"점수\"]\n",
    "for k in d:\n",
    "    print(k)"
   ]
  },
  {
   "cell_type": "code",
   "execution_count": 15,
   "id": "1f9105cd",
   "metadata": {},
   "outputs": [],
   "source": [
    "a=0\n",
    "b=0\n",
    "c=0\n",
    "for j in range(0,6):\n",
    "    for i in range(0,8):\n",
    "        data = pd.read_csv(subject[j]+\"_\"+title[i]+\"_result_태깅.csv\")\n",
    "        dd=data[\"태깅결과\"]\n",
    "        for k in dd:\n",
    "            if(k==\"긍정\"):\n",
    "                a+=1\n",
    "            elif(k==\"중립\"):\n",
    "                b+=1\n",
    "            elif(k==\"부정\"):\n",
    "                c+=1\n",
    "                \n",
    "        data[\"긍정갯수\"]=a\n",
    "        data[\"부정갯수\"]=c\n",
    "        data[\"중립갯수\"]=b\n",
    "        data.to_csv(subject[j]+\"_\"+title[i]+\"_result_최종.csv\",encoding=\"utf-8-sig\")\n",
    "        a=0\n",
    "        b=0\n",
    "        c=0"
   ]
  },
  {
   "cell_type": "code",
   "execution_count": null,
   "id": "68e25e97",
   "metadata": {},
   "outputs": [],
   "source": []
  },
  {
   "cell_type": "code",
   "execution_count": null,
   "id": "a1baf55f",
   "metadata": {},
   "outputs": [],
   "source": [
    "result=[]\n",
    "for j in range(0,6):\n",
    "    for i in range(0,8):\n",
    "        data = pd.read_csv(subject[j]+\"_\"+title[i]+\"_result.csv\")\n",
    "        \n",
    "        \n",
    "        data[\"태깅결과\"]=result\n",
    "        data.to_csv(subject[j]+\"_\"+title[i]+\"_result_태깅.csv\",encoding=\"utf-8-sig\")\n",
    "        result=[]"
   ]
  },
  {
   "cell_type": "code",
   "execution_count": 4,
   "id": "18b74048",
   "metadata": {},
   "outputs": [],
   "source": [
    "data = pd.read_csv(subject[0]+\"_\"+title[0]+\"_result.csv\")"
   ]
  },
  {
   "cell_type": "code",
   "execution_count": 9,
   "id": "c5d8398c",
   "metadata": {},
   "outputs": [
    {
     "data": {
      "text/plain": [
       "'hankyoreh'"
      ]
     },
     "execution_count": 9,
     "metadata": {},
     "output_type": "execute_result"
    }
   ],
   "source": [
    "data.iloc[0][6]"
   ]
  },
  {
   "cell_type": "code",
   "execution_count": null,
   "id": "39acda69",
   "metadata": {},
   "outputs": [],
   "source": []
  }
 ],
 "metadata": {
  "kernelspec": {
   "display_name": "Python 3",
   "language": "python",
   "name": "python3"
  },
  "language_info": {
   "codemirror_mode": {
    "name": "ipython",
    "version": 3
   },
   "file_extension": ".py",
   "mimetype": "text/x-python",
   "name": "python",
   "nbconvert_exporter": "python",
   "pygments_lexer": "ipython3",
   "version": "3.9.5"
  }
 },
 "nbformat": 4,
 "nbformat_minor": 5
}
