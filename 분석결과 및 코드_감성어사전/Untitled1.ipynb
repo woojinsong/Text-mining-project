{
 "cells": [
  {
   "cell_type": "code",
   "execution_count": 5,
   "id": "033d1394",
   "metadata": {},
   "outputs": [],
   "source": [
    "import matplotlib\n",
    "import matplotlib.pyplot as plt\n",
    "import numpy as np\n",
    "import pandas as pd"
   ]
  },
  {
   "cell_type": "code",
   "execution_count": 3,
   "id": "f8d270a7",
   "metadata": {},
   "outputs": [],
   "source": [
    "matplotlib.rcParams['font.family']=\"Malgun Gothic\"\n",
    "matplotlib.rcParams['axes.unicode_minus']=False"
   ]
  },
  {
   "cell_type": "code",
   "execution_count": 6,
   "id": "a45a1d1e",
   "metadata": {},
   "outputs": [],
   "source": [
    "data = pd.read_csv(\"박영선_hankyoreh_result_최종.csv\")"
   ]
  },
  {
   "cell_type": "code",
   "execution_count": 7,
   "id": "8584c1e0",
   "metadata": {},
   "outputs": [
    {
     "data": {
      "text/plain": [
       "0     0.532267\n",
       "1     0.537783\n",
       "2     0.493406\n",
       "3     0.529312\n",
       "4     0.471456\n",
       "        ...   \n",
       "69    0.544296\n",
       "70    0.499195\n",
       "71    0.498841\n",
       "72    0.523149\n",
       "73    0.476889\n",
       "Name: 점수, Length: 74, dtype: float64"
      ]
     },
     "execution_count": 7,
     "metadata": {},
     "output_type": "execute_result"
    }
   ],
   "source": [
    "data[\"점수\"]"
   ]
  },
  {
   "cell_type": "code",
   "execution_count": 15,
   "id": "88f1844e",
   "metadata": {},
   "outputs": [
    {
     "data": {
      "text/plain": [
       "(0.0, 1.0, 0.0, 100.0)"
      ]
     },
     "execution_count": 15,
     "metadata": {},
     "output_type": "execute_result"
    },
    {
     "data": {
      "image/png": "[encoded data removed]",
      "text/plain": [
       "<Figure size 432x288 with 1 Axes>"
      ]
     },
     "metadata": {
      "needs_background": "light"
     },
     "output_type": "display_data"
    }
   ],
   "source": [
    "plt.axis([0,1,0,100])"
   ]
  },
  {
   "cell_type": "code",
   "execution_count": 16,
   "id": "c4d4a880",
   "metadata": {},
   "outputs": [
    {
     "data": {
      "text/plain": [
       "(array([2., 0., 0., 2., 0., 0., 3., 3., 1., 6., 9., 4., 8., 4., 5., 6., 5.,\n",
       "        4., 2., 4., 3., 0., 1., 1., 0., 0., 0., 0., 0., 1.]),\n",
       " array([0.43752624, 0.44316706, 0.44880788, 0.45444869, 0.46008951,\n",
       "        0.46573033, 0.47137114, 0.47701196, 0.48265278, 0.4882936 ,\n",
       "        0.49393441, 0.49957523, 0.50521605, 0.51085687, 0.51649768,\n",
       "        0.5221385 , 0.52777932, 0.53342013, 0.53906095, 0.54470177,\n",
       "        0.55034259, 0.5559834 , 0.56162422, 0.56726504, 0.57290586,\n",
       "        0.57854667, 0.58418749, 0.58982831, 0.59546912, 0.60110994,\n",
       "        0.60675076]),\n",
       " <BarContainer object of 30 artists>)"
      ]
     },
     "execution_count": 16,
     "metadata": {},
     "output_type": "execute_result"
    },
    {
     "data": {
      "image/png": "[encoded data removed]",
      "text/plain": [
       "<Figure size 432x288 with 1 Axes>"
      ]
     },
     "metadata": {
      "needs_background": "light"
     },
     "output_type": "display_data"
    }
   ],
   "source": [
    "plt.hist(data[\"점수\"],color=\"c\",bins=30)"
   ]
  },
  {
   "cell_type": "code",
   "execution_count": 10,
   "id": "464586ce",
   "metadata": {},
   "outputs": [],
   "source": [
    "data1= pd.read_csv(\"오세훈_hankyoreh_result_최종.csv\")"
   ]
  },
  {
   "cell_type": "code",
   "execution_count": 12,
   "id": "d0454f0c",
   "metadata": {},
   "outputs": [
    {
     "data": {
      "text/plain": [
       "(array([ 2.,  0.,  0.,  0.,  0.,  3.,  3.,  3.,  6., 12.,  8.,  9., 12.,\n",
       "        14., 15.,  4., 10.,  3.,  3.,  2.,  0.,  1.,  2.,  2.,  1.,  0.,\n",
       "         0.,  0.,  0.,  1.]),\n",
       " array([0.43086553, 0.43814213, 0.44541873, 0.45269533, 0.45997192,\n",
       "        0.46724852, 0.47452512, 0.48180171, 0.48907831, 0.49635491,\n",
       "        0.50363151, 0.5109081 , 0.5181847 , 0.5254613 , 0.53273789,\n",
       "        0.54001449, 0.54729109, 0.55456769, 0.56184428, 0.56912088,\n",
       "        0.57639748, 0.58367407, 0.59095067, 0.59822727, 0.60550386,\n",
       "        0.61278046, 0.62005706, 0.62733366, 0.63461025, 0.64188685,\n",
       "        0.64916345]),\n",
       " <BarContainer object of 30 artists>)"
      ]
     },
     "execution_count": 12,
     "metadata": {},
     "output_type": "execute_result"
    },
    {
     "data": {
      "image/png": "[encoded data removed]",
      "text/plain": [
       "<Figure size 432x288 with 1 Axes>"
      ]
     },
     "metadata": {
      "needs_background": "light"
     },
     "output_type": "display_data"
    }
   ],
   "source": [
    "plt.hist(data1[\"점수\"],color=\"c\",bins=30)"
   ]
  },
  {
   "cell_type": "code",
   "execution_count": null,
   "id": "a9a7bd7d",
   "metadata": {},
   "outputs": [],
   "source": []
  }
 ],
 "metadata": {
  "kernelspec": {
   "display_name": "Python 3",
   "language": "python",
   "name": "python3"
  },
  "language_info": {
   "codemirror_mode": {
    "name": "ipython",
    "version": 3
   },
   "file_extension": ".py",
   "mimetype": "text/x-python",
   "name": "python",
   "nbconvert_exporter": "python",
   "pygments_lexer": "ipython3",
   "version": "3.9.5"
  }
 },
 "nbformat": 4,
 "nbformat_minor": 5
}
